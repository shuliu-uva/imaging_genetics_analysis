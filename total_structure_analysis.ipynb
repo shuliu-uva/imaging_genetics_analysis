{
 "cells": [
  {
   "cell_type": "code",
   "execution_count": 1,
   "metadata": {},
   "outputs": [],
   "source": [
    "# load global and regional structural data\n",
    "import pandas as pd\n",
    "\n",
    "# my data file path\n",
    "data = pd.read_csv('/data/sliu/updated_ukbb2/raw_data/matched_ukbb.csv')\n",
    "\n",
    "# the items of global structural measures\n",
    "total_items = pd.read_csv('/data/sliu/updated_ukbb2/raw_data/total_items.csv')\n",
    "s1 = ['karin_IDs']\n",
    "for i in range(total_items.shape[0]):\n",
    "    s1.append(str(total_items.iloc[i,0])+'-2.0')\n",
    "    \n",
    "# the items of regional structural measures\n",
    "regional_items = pd.read_csv('/data/sliu/updated_ukbb2/raw_data/regional_items.csv')\n",
    "s2 = ['karin_IDs']\n",
    "for i in range(regional_items.shape[0]):\n",
    "    s2.append(str(regional_items.iloc[i,0])+'-2.0')"
   ]
  },
  {
   "cell_type": "code",
   "execution_count": 2,
   "metadata": {},
   "outputs": [
    {
     "name": "stderr",
     "output_type": "stream",
     "text": [
      "/data/sliu/anaconda3/lib/python3.7/site-packages/ipykernel_launcher.py:2: SettingWithCopyWarning: \n",
      "A value is trying to be set on a copy of a slice from a DataFrame\n",
      "\n",
      "See the caveats in the documentation: http://pandas.pydata.org/pandas-docs/stable/indexing.html#indexing-view-versus-copy\n",
      "  \n",
      "/data/sliu/anaconda3/lib/python3.7/site-packages/ipykernel_launcher.py:4: SettingWithCopyWarning: \n",
      "A value is trying to be set on a copy of a slice from a DataFrame\n",
      "\n",
      "See the caveats in the documentation: http://pandas.pydata.org/pandas-docs/stable/indexing.html#indexing-view-versus-copy\n",
      "  after removing the cwd from sys.path.\n"
     ]
    }
   ],
   "source": [
    "# total brain measures (total CSA, average CT and ICV)\n",
    "T_data = data[s1]\n",
    "T_data.dropna(axis=0,how='any',inplace=True)\n",
    "\n",
    "# regional brain measures (CSA, CT based on DKT atlas)\n",
    "R_data = data[s2]\n",
    "R_data.dropna(axis=0,how='any',inplace=True)"
   ]
  },
  {
   "cell_type": "code",
   "execution_count": 3,
   "metadata": {},
   "outputs": [
    {
     "name": "stderr",
     "output_type": "stream",
     "text": [
      "/data/sliu/anaconda3/lib/python3.7/site-packages/ipykernel_launcher.py:8: FutureWarning: read_table is deprecated, use read_csv instead.\n",
      "  \n"
     ]
    }
   ],
   "source": [
    "# load covariates (age, sex, head positions, the top 25 principal components)\n",
    "temp = pd.read_csv('/data/sliu/updated_ukbb/added_used_variables.csv')\n",
    "s = ['eid','25756-2.0','25757-2.0','25758-2.0']\n",
    "QC1 = temp[s]\n",
    "temp2 = pd.read_csv('/data/sliu/muti_PRSs/ukb30545.sample_QC.csv')\n",
    "s2 = ['eid','age_at_reqruitment','genetic_sex']\n",
    "QC2 = temp2[s2]\n",
    "PCs = pd.read_table('/data/sliu/muti_PRSs/UKB.HM3.EUR.100PCs.txt','\\t')\n",
    "\n",
    "# load Polygenic scores for 14 mental health and cognitive traits\n",
    "PRS_data = pd.read_csv('/data/sliu/updated_ukbb/ukb_PRSs.csv')"
   ]
  },
  {
   "cell_type": "code",
   "execution_count": 4,
   "metadata": {},
   "outputs": [],
   "source": [
    "# matching subject IDs\n",
    "T_data.set_index('karin_IDs', inplace=True)\n",
    "QC1.set_index('eid',inplace=True)\n",
    "QC2.set_index('eid',inplace=True)\n",
    "PCs.set_index('IID',inplace=True)\n",
    "PRS_data.set_index('FID',inplace=True)\n",
    "l = list(set(T_data.index) & set(QC1.index) & set(QC2.index) & set(PCs.index) & set(PRS_data.index))\n",
    "final_Ts = T_data.loc[l]\n",
    "final_QC1 = QC1.loc[l]\n",
    "final_QC2 = QC2.loc[l]\n",
    "final_PCs = PCs.loc[l]\n",
    "final_PRSs = PRS_data.loc[l]\n",
    "\n",
    "final_Ts.reset_index(inplace=True)\n",
    "final_QC1.reset_index(inplace=True)\n",
    "final_QC2.reset_index(inplace=True)\n",
    "final_PCs.reset_index(inplace=True)\n",
    "final_PRSs.reset_index(inplace=True)"
   ]
  },
  {
   "cell_type": "code",
   "execution_count": 5,
   "metadata": {},
   "outputs": [],
   "source": [
    "# merge covariates together \n",
    "import numpy as np\n",
    "PCs_25 = final_PCs.iloc[:,2:27].values\n",
    "age = final_QC2.iloc[:,1:2].values\n",
    "sex = final_QC2.iloc[:,2:3].values\n",
    "postions = final_QC1.iloc[:,1:4].values\n",
    "sex = sex + 1\n",
    "co = np.hstack((PCs_25,age,sex,age*age,age*sex,age*age*sex,postions))"
   ]
  },
  {
   "cell_type": "code",
   "execution_count": 7,
   "metadata": {},
   "outputs": [],
   "source": [
    "X = final_PRSs.iloc[:,1:].values"
   ]
  },
  {
   "cell_type": "code",
   "execution_count": 8,
   "metadata": {},
   "outputs": [],
   "source": [
    "TA = (final_Ts.iloc[:,1].values + final_Ts.iloc[:,2].values)/2\n",
    "AT = (final_Ts.iloc[:,3].values + final_Ts.iloc[:,4].values)/2\n",
    "ICV = final_Ts.iloc[:,5].values"
   ]
  },
  {
   "cell_type": "code",
   "execution_count": 17,
   "metadata": {},
   "outputs": [],
   "source": [
    "# function used for regressing out the effects of covariates \n",
    "from sklearn.preprocessing import StandardScaler\n",
    "\n",
    "def regression_covariant(covariant_matrix, y, standard_scale=False):\n",
    "    a = np.hstack((covariant_matrix,np.ones((covariant_matrix.shape[0], 1))))\n",
    "    w = np.linalg.lstsq(a,y,rcond=None)[0]\n",
    "\n",
    "    residual = y - covariant_matrix.dot(w[:-1])\n",
    "    residual = residual.astype('float64')\n",
    "\n",
    "    if standard_scale:\n",
    "        residual = StandardScaler().fit_transform(residual.reshape(-1,1)).flatten()\n",
    "\n",
    "    return residual, w"
   ]
  },
  {
   "cell_type": "code",
   "execution_count": 28,
   "metadata": {},
   "outputs": [],
   "source": [
    "# Pearson's correlation analysis between PRSs and global structural measures\n",
    "from scipy.stats import pearsonr\n",
    "size1 = X.shape[1]\n",
    "R = np.empty([size1,3])\n",
    "P = np.empty([size1,3])\n",
    "[r_TA,w] = regression_covariant(co,TA,standard_scale=True)\n",
    "[r_AT,w] = regression_covariant(co,AT,standard_scale=True)\n",
    "[r_ICV,w] = regression_covariant(co,ICV,standard_scale=True)\n",
    "for i in range(size1):\n",
    "    x = X[:,i]\n",
    "    [rx,w1] = regression_covariant(co,x,standard_scale=True)\n",
    "    r1,p1 = pearsonr(rx, r_TA)\n",
    "    r2,p2 = pearsonr(rx, r_AT)\n",
    "    r3,p3 = pearsonr(rx, r_ICV)\n",
    "    R[i,0] = r1\n",
    "    R[i,1] = r2\n",
    "    R[i,2] = r3\n",
    "    P[i,0] = p1\n",
    "    P[i,1] = p2\n",
    "    P[i,2] = p3\n",
    "    if i == 7 or i == 8 or i == 11:\n",
    "        R[i,:] = -R[i,:]"
   ]
  },
  {
   "cell_type": "code",
   "execution_count": 33,
   "metadata": {},
   "outputs": [],
   "source": [
    "# FDR multiple comparison correction\n",
    "from statsmodels.stats import multitest\n",
    "size = P.shape\n",
    "temp_p = P.flatten()\n",
    "Ps = multitest.multipletests(temp_p,alpha=0.05,method='fdr_bh')\n",
    "P_corrected = Ps[1].reshape(size)"
   ]
  },
  {
   "cell_type": "code",
   "execution_count": 35,
   "metadata": {},
   "outputs": [],
   "source": [
    "# output results\n",
    "re_R = pd.DataFrame(data=R)\n",
    "re_R.to_csv('/data/sliu/updated_ukbb2/total_results/re_R.csv',index=False)\n",
    "re_P = pd.DataFrame(data=P)\n",
    "re_P.to_csv('/data/sliu/updated_ukbb2/total_results/re_P.csv',index=False)\n",
    "re_P_corrected = pd.DataFrame(data=P_corrected)\n",
    "re_P_corrected.to_csv('/data/sliu/updated_ukbb2/total_results/re_P_corrected.csv',index=False)"
   ]
  }
 ],
 "metadata": {
  "kernelspec": {
   "display_name": "Python 3",
   "language": "python",
   "name": "python3"
  },
  "language_info": {
   "codemirror_mode": {
    "name": "ipython",
    "version": 3
   },
   "file_extension": ".py",
   "mimetype": "text/x-python",
   "name": "python",
   "nbconvert_exporter": "python",
   "pygments_lexer": "ipython3",
   "version": "3.7.3"
  }
 },
 "nbformat": 4,
 "nbformat_minor": 2
}
